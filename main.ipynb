{
 "cells": [
  {
   "cell_type": "markdown",
   "metadata": {},
   "source": [
    "# Libraries"
   ]
  },
  {
   "cell_type": "code",
   "execution_count": 1,
   "metadata": {},
   "outputs": [],
   "source": [
    "import pandas as pd\n",
    "from sklearn.model_selection import train_test_split\n",
    "from sklearn.linear_model import LogisticRegression\n",
    "from sklearn.metrics import accuracy_score\n",
    "# Mitigate Bias using Exponentiated Gradient with Demographic Parity constraint\n",
    "from fairlearn.reductions import DemographicParity, ExponentiatedGradient\n",
    "import warnings\n",
    "warnings.filterwarnings('ignore')"
   ]
  },
  {
   "cell_type": "markdown",
   "metadata": {},
   "source": [
    "# Part 1: Load the dataset + Preprocessing"
   ]
  },
  {
   "cell_type": "code",
   "execution_count": 2,
   "metadata": {},
   "outputs": [],
   "source": [
    "# Load the dataset\n",
    "url = 'https://archive.ics.uci.edu/ml/machine-learning-databases/adult/adult.data'\n",
    "columns = [\n",
    "    'age', 'workclass', 'fnlwgt', 'education', 'education_num', 'marital_status',\n",
    "    'occupation', 'relationship', 'race', 'sex', 'capital_gain', 'capital_loss',\n",
    "    'hours_per_week', 'native_country', 'income'\n",
    "]\n",
    "data = pd.read_csv(url, names=columns)"
   ]
  },
  {
   "cell_type": "code",
   "execution_count": 3,
   "metadata": {},
   "outputs": [
    {
     "data": {
      "image/png": "[encoded data removed]",
      "text/plain": [
       "<Figure size 640x480 with 1 Axes>"
      ]
     },
     "metadata": {},
     "output_type": "display_data"
    }
   ],
   "source": [
    "#graphical representation of the sex column in the dataset\n",
    "import matplotlib.pyplot as plt\n",
    "\n",
    "# Plot the distribution of the 'sex' column\n",
    "data['sex'].value_counts().plot(kind='bar')\n",
    "plt.title('Distribution of Sex in the Dataset')\n",
    "plt.xlabel('Sex')\n",
    "plt.ylabel('Count')\n",
    "plt.show()"
   ]
  },
  {
   "cell_type": "markdown",
   "metadata": {},
   "source": [
    "As we can see there is a disparity between male and female in our dataset"
   ]
  },
  {
   "cell_type": "code",
   "execution_count": 4,
   "metadata": {},
   "outputs": [],
   "source": [
    "# Basic preprocessing\n",
    "data = data.replace(' ?', pd.NA).dropna()\n",
    "\n",
    "# Convert categorical columns to dummy variables\n",
    "data = pd.get_dummies(data, drop_first=True)\n"
   ]
  },
  {
   "cell_type": "code",
   "execution_count": 5,
   "metadata": {},
   "outputs": [],
   "source": [
    "# Split into features (X) and labels (y)\n",
    "X = data.drop('income_ >50K', axis=1)  # Target column (1 if >50K, 0 if <=50K)\n",
    "y = data['income_ >50K']\n",
    "X_train, X_test, y_train, y_test = train_test_split(\n",
    "    X, y, test_size=0.2, random_state=42\n",
    ")"
   ]
  },
  {
   "cell_type": "markdown",
   "metadata": {},
   "source": [
    "# Part 2 : Train model"
   ]
  },
  {
   "cell_type": "code",
   "execution_count": 6,
   "metadata": {},
   "outputs": [
    {
     "name": "stdout",
     "output_type": "stream",
     "text": [
      "Original Accuracy: 0.8458\n"
     ]
    }
   ],
   "source": [
    "\n",
    "# Train a logistic regression model\n",
    "model = LogisticRegression(max_iter=1000)\n",
    "model.fit(X_train, y_train)\n",
    "\n",
    "# Evaluate the model\n",
    "y_pred = model.predict(X_test)\n",
    "accuracy_original = accuracy_score(y_test, y_pred)\n",
    "print(f'Original Accuracy: {accuracy_original:.4f}')"
   ]
  },
  {
   "cell_type": "markdown",
   "metadata": {},
   "source": [
    "# Part 3: Implement Guardrails for Fairness\n",
    "\n",
    "**Check for Bias**: We will now check if the model is biased toward specific groups (e.g., based on gender or race). We’ll use the Fairlearn library to evaluate fairness."
   ]
  },
  {
   "cell_type": "code",
   "execution_count": 7,
   "metadata": {},
   "outputs": [
    {
     "name": "stdout",
     "output_type": "stream",
     "text": [
      "Original Fairness Score (Demographic Parity Difference for Gender): 0.1903\n"
     ]
    }
   ],
   "source": [
    "# Evaluate fairness on gender (0 = Female, 1 = Male)\n",
    "from fairlearn.metrics import demographic_parity_difference\n",
    "\n",
    "sex_feature = X_test['sex_ Male']  # 'sex_ Male' is the column indicating gender\n",
    "fairness_score_original = demographic_parity_difference(\n",
    "    y_test, y_pred, sensitive_features=sex_feature\n",
    ")\n",
    "print(f'Original Fairness Score (Demographic Parity Difference for Gender): {fairness_score_original:.4f}')"
   ]
  },
  {
   "cell_type": "markdown",
   "metadata": {},
   "source": [
    "there is a demographic disparity in the models predictions. there is 19% difference in positive outcome (like loan approval) between two groups. The closer de fairness score is to 0, then better. In our case we check why it has such bias."
   ]
  },
  {
   "cell_type": "markdown",
   "metadata": {},
   "source": [
    "Mitigate Bias If the model shows bias, we use Fairlearn’s mitigation strategies like reweighting or post-processing to reduce it."
   ]
  },
  {
   "cell_type": "code",
   "execution_count": 8,
   "metadata": {},
   "outputs": [
    {
     "name": "stdout",
     "output_type": "stream",
     "text": [
      "Accuracy after Mitigation: 0.7825\n"
     ]
    }
   ],
   "source": [
    "# Ensure compatibility with Fairlearn\n",
    "import numpy as np\n",
    "np.seterr(all='ignore')\n",
    "\n",
    "mitigator = ExponentiatedGradient(\n",
    "    LogisticRegression(solver='liblinear'), constraints=DemographicParity()\n",
    ")\n",
    "mitigator.fit(X_train, y_train, sensitive_features=X_train['sex_ Male'])\n",
    "y_pred_mitigated = mitigator.predict(X_test)\n",
    "\n",
    "# Evaluate the mitigated model\n",
    "accuracy_mitigated = accuracy_score(y_test, y_pred_mitigated)\n",
    "print(f'Accuracy after Mitigation: {accuracy_mitigated:.4f}')"
   ]
  },
  {
   "cell_type": "markdown",
   "metadata": {},
   "source": [
    "# Part 4: Re-evaluate fairness on gender"
   ]
  },
  {
   "cell_type": "code",
   "execution_count": 9,
   "metadata": {},
   "outputs": [
    {
     "name": "stdout",
     "output_type": "stream",
     "text": [
      "Fairness Score after Mitigation (Demographic Parity Difference for Gender): 0.0076\n",
      "\n",
      "Comparison:\n",
      "Accuracy Improvement: -0.0633\n",
      "Fairness Improvement: 0.1827\n"
     ]
    }
   ],
   "source": [
    "# Re-evaluate fairness on gender\n",
    "fairness_score_mitigated = demographic_parity_difference(\n",
    "    y_test, y_pred_mitigated, sensitive_features=sex_feature\n",
    ")\n",
    "print(f'Fairness Score after Mitigation (Demographic Parity Difference for Gender): {fairness_score_mitigated:.4f}')\n",
    "\n",
    "# Compare the results\n",
    "print(\"\\nComparison:\")\n",
    "print(f\"Accuracy Improvement: {accuracy_mitigated - accuracy_original:.4f}\")\n",
    "print(f\"Fairness Improvement: {fairness_score_original - fairness_score_mitigated:.4f}\")\n"
   ]
  },
  {
   "cell_type": "markdown",
   "metadata": {},
   "source": [
    "# Conclusion\n",
    "\n",
    "As we can see, we decreased the Accuracy score from 84% to 79% but in return we improved the Fairness regarding gender by 18.73%. Which was the goal, to improve the fairness of our model.\n",
    "To accomplish that we build a linear Regression model, and after that we used the demographic parity difference metric, which tells us if each group (in our case the genders) have the same selection rate. During the first training, we received a demographic parity differnece of 19%. This means that the 2 groups (male, female) were not equal in their selection rate. As such our goal was to reduce that number. \n",
    "One way was probably to reduce the number of male or female that our dataset had. To create fairness in our dataset we used the mitigation strategies that our library offered using the Exponentiated GFradient. and we made a new model. \n",
    "The accuracy was reduced but the fairness was better.\n",
    "We will do further research on that.\n"
   ]
  },
  {
   "cell_type": "code",
   "execution_count": null,
   "metadata": {},
   "outputs": [],
   "source": []
  }
 ],
 "metadata": {
  "kernelspec": {
   "display_name": "guardrail-env",
   "language": "python",
   "name": "python3"
  },
  "language_info": {
   "codemirror_mode": {
    "name": "ipython",
    "version": 3
   },
   "file_extension": ".py",
   "mimetype": "text/x-python",
   "name": "python",
   "nbconvert_exporter": "python",
   "pygments_lexer": "ipython3",
   "version": "3.11.9"
  }
 },
 "nbformat": 4,
 "nbformat_minor": 2
}
